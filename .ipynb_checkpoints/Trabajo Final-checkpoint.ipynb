{
 "cells": [
  {
   "cell_type": "code",
   "execution_count": 4,
   "metadata": {},
   "outputs": [],
   "source": [
    "#Importamos las librerias necesarias\n",
    "import numpy as np"
   ]
  },
  {
   "cell_type": "code",
   "execution_count": 17,
   "metadata": {},
   "outputs": [],
   "source": [
    "#Creamos la Clase Mecanico\n",
    "class Mecanico:\n",
    "    \"\"\"\n",
    "    Clase que representa el mecanico\n",
    "    \"\"\"\n",
    "    def __init__(self):\n",
    "        self.disponible = True;"
   ]
  },
  {
   "cell_type": "code",
   "execution_count": 39,
   "metadata": {},
   "outputs": [],
   "source": [
    "#Creamos la Clase Elevador\n",
    "class Elevador:\n",
    "    \"\"\"\n",
    "    Clase que representa el elevador\n",
    "    \"\"\"\n",
    "    def __init__(self):\n",
    "        self.disponible = True;\n",
    "        self.tiempo_uso = 0;\n",
    "        \n",
    "    def get_disponible(self):\n",
    "        return self.disponible\n",
    "    \n",
    "    def set_disponible(self, nuevo_valor):\n",
    "        self.disponible = nuevo_valor\n",
    "        \n",
    "    def get_tiempo_uso(self):\n",
    "        return self.tiempo_uso\n",
    "    \n",
    "    def set_tiempo_uso(self, nuevo_valor):\n",
    "        self.tiempo_uso = nuevo_valor"
   ]
  },
  {
   "cell_type": "code",
   "execution_count": 14,
   "metadata": {},
   "outputs": [],
   "source": [
    "#Creamos la Clase Vehiculo\n",
    "class Vehiculo:\n",
    "    \"\"\"\n",
    "    Clase que representa el vehiculo\n",
    "    \"\"\"\n",
    "    def __init__(self, patente, usa_elevador, espera, reparacion, tiempo_total):\n",
    "        self.patente = patente\n",
    "        self.usa_elevador = usa_elevador\n",
    "        self.tiempo_espera = espera\n",
    "        self.tiempo_reparacion = reparacion\n",
    "        self.tiempo_total = tiempo_total\n",
    "        self.reparado = False"
   ]
  },
  {
   "cell_type": "code",
   "execution_count": 13,
   "metadata": {},
   "outputs": [],
   "source": [
    "#Creamos la Clase Galpon\n",
    "class Galpon:\n",
    "    \"\"\"\n",
    "    Clase que representa el Galpon\n",
    "    \"\"\"\n",
    "    def __init__(self, capacidad):\n",
    "        self.capacidad_max = capacidad;\n",
    "        self.espacio = []\n",
    "        \n",
    "    def get_espacio_libre(self):\n",
    "        return self.capacidad_max - len(self.espacio)\n",
    "    \n",
    "    def esta_lleno(self):\n",
    "        if len(self.espacio) == self.capacidad_max:\n",
    "            return True\n",
    "        else:\n",
    "            return False\n",
    "        \n",
    "    #Este metodo se llama cuando el vehiculo entra al taller\n",
    "    def ingreso_vehiculo(self,vehiculo):\n",
    "        if not self.esta_lleno:\n",
    "            self.espacio.append(vehiculo)\n",
    "            return True\n",
    "        else:\n",
    "            return False\n",
    "    \n",
    "    #Este metodo se llama cuando el vehiculo Entra a repararse\n",
    "    def mandar_auto_a_reparacion(self):\n",
    "        pass\n",
    "    \n",
    "    #Este metodo se llama cuando el vehiculo sale del taller\n",
    "    def salida_vehiculo(self,vehiculo):\n",
    "        self.espacio.remove(vehiculo)\n",
    "        return True"
   ]
  },
  {
   "cell_type": "code",
   "execution_count": 35,
   "metadata": {},
   "outputs": [],
   "source": [
    "class Reparacion:\n",
    "    \"\"\"\n",
    "    Clase que representa una reparacion\n",
    "    \"\"\"\n",
    "    def __init__(self, un_vehiculo, un_mecanico, un_elevador = None):\n",
    "        self.vehiculo = un_vehiculo\n",
    "        self.mecanico = un_mecanico\n",
    "        self.elevador = un_elevador\n",
    "        \n",
    "    def get_vehiculo(self):\n",
    "        return self.vehiculo\n",
    "    \n",
    "    def get_mecanico(self):\n",
    "        return self.mecanico\n",
    "    \n",
    "    def get_elevador(self):\n",
    "        return self.elevador\n",
    "    "
   ]
  },
  {
   "cell_type": "code",
   "execution_count": 34,
   "metadata": {},
   "outputs": [],
   "source": [
    "class Evento:\n",
    "    \"\"\"\n",
    "    Clase que representa un evento\n",
    "    \"\"\"\n",
    "    def __init__(self, un_tipo, un_tiempo, una_reparacion=None, un_vehiculo=None):\n",
    "        self.tipo = un_tipo\n",
    "        self.tiempo = un_tiempo\n",
    "        self.reparacion = una_reparacion\n",
    "        self.vehiculo = un_vehiculo\n",
    "    \n",
    "    def get_tipo(self):\n",
    "        return self.tipo\n",
    "\n",
    "    def get_tiempo(self):\n",
    "        return self.tiempo\n",
    "\n",
    "    def get_reparacion(self):\n",
    "        return self.reparacion\n",
    "\n",
    "    def get_vehiculo(self):\n",
    "        return self.vehiculo\n",
    "\n",
    "    def get_vehiculo(self):\n",
    "        return self.vehiculo"
   ]
  },
  {
   "cell_type": "code",
   "execution_count": 28,
   "metadata": {},
   "outputs": [],
   "source": [
    "class Reloj:\n",
    "    \"\"\"\n",
    "    Clase que representa un reloj\n",
    "    \"\"\"\n",
    "    def __init__(self):\n",
    "        self.valor = 0 #en minutos\n",
    "        \n",
    "    def get_valor(self):\n",
    "        return self.valor\n",
    "    \n",
    "    def set_valor(self, nuevo_valor):\n",
    "        self.valor = nuevo_valor\n",
    "        "
   ]
  },
  {
   "cell_type": "code",
   "execution_count": 7,
   "metadata": {},
   "outputs": [],
   "source": [
    "class Taller:\n",
    "    \"\"\"\n",
    "    Clase que representa el taller\n",
    "    \"\"\"\n",
    "    def __init__(self):\n",
    "        self.eventos = []"
   ]
  },
  {
   "cell_type": "code",
   "execution_count": null,
   "metadata": {},
   "outputs": [],
   "source": []
  }
 ],
 "metadata": {
  "kernelspec": {
   "display_name": "Python 3",
   "language": "python",
   "name": "python3"
  },
  "language_info": {
   "codemirror_mode": {
    "name": "ipython",
    "version": 3
   },
   "file_extension": ".py",
   "mimetype": "text/x-python",
   "name": "python",
   "nbconvert_exporter": "python",
   "pygments_lexer": "ipython3",
   "version": "3.6.5"
  }
 },
 "nbformat": 4,
 "nbformat_minor": 2
}
