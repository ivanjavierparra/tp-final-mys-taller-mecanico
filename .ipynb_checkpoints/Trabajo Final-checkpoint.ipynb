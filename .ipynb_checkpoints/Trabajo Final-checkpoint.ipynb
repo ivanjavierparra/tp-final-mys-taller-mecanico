{
 "cells": [
  {
   "cell_type": "code",
   "execution_count": 4,
   "metadata": {},
   "outputs": [],
   "source": [
    "#Importamos las librerias necesarias\n",
    "import numpy as np"
   ]
  },
  {
   "cell_type": "code",
   "execution_count": 6,
   "metadata": {},
   "outputs": [],
   "source": [
    "#Creamos la Clase Mecanico\n",
    "class Mecanico:\n",
    "    \"\"\"\n",
    "    Clase que representa el mecanico\n",
    "    \"\"\"\n",
    "    def __init__(self):\n",
    "        self.disponible = True;"
   ]
  },
  {
   "cell_type": "code",
   "execution_count": 9,
   "metadata": {},
   "outputs": [],
   "source": [
    "#Creamos la Clase Elevador\n",
    "class Elevador:\n",
    "    \"\"\"\n",
    "    Clase que representa el elevador\n",
    "    \"\"\"\n",
    "    def __init__(self):\n",
    "        self.disponible = True;\n",
    "        self.tiempo_uso = 0;"
   ]
  },
  {
   "cell_type": "code",
   "execution_count": 12,
   "metadata": {},
   "outputs": [],
   "source": [
    "#Creamos la Clase Vehiculo\n",
    "class Vehiculo:\n",
    "    \"\"\"\n",
    "    Clase que representa el vehiculo\n",
    "    \"\"\"\n",
    "    def __init__(self, patente, usa_elevador, espera, reparacion, tiempo_total):\n",
    "        self.patente = patente\n",
    "        self.usa_elevador = usa_elevador\n",
    "        self.tiempo_espera = espera\n",
    "        self.tiempo_reparacion = reparacion\n",
    "        self.tiempo_total = tiempo_total\n",
    "        self.reparado = False"
   ]
  },
  {
   "cell_type": "code",
   "execution_count": 13,
   "metadata": {},
   "outputs": [],
   "source": [
    "#Creamos la Clase Galpon\n",
    "class Galpon:\n",
    "    \"\"\"\n",
    "    Clase que representa el Galpon\n",
    "    \"\"\"\n",
    "    def __init__(self, capacidad):\n",
    "        self.capacidad_max = capacidad;\n",
    "        self.espacio = []\n",
    "        \n",
    "    def get_espacio_libre(self):\n",
    "        return self.capacidad_max - len(self.espacio)\n",
    "    \n",
    "    def esta_lleno(self):\n",
    "        if len(self.espacio) == self.capacidad_max:\n",
    "            return True\n",
    "        else:\n",
    "            return False\n",
    "        \n",
    "    #Este metodo se llama cuando el vehiculo entra al taller\n",
    "    def ingreso_vehiculo(self,vehiculo):\n",
    "        if not self.esta_lleno:\n",
    "            self.espacio.append(vehiculo)\n",
    "            return True\n",
    "        else:\n",
    "            return False\n",
    "    \n",
    "    #Este metodo se llama cuando el vehiculo Entra a repararse\n",
    "    def mandar_auto_a_reparacion(self):\n",
    "        pass\n",
    "    \n",
    "    #Este metodo se llama cuando el vehiculo sale del taller\n",
    "    def salida_vehiculo(self,vehiculo):\n",
    "        self.espacio.remove(vehiculo)\n",
    "        return True"
   ]
  },
  {
   "cell_type": "code",
   "execution_count": null,
   "metadata": {},
   "outputs": [],
   "source": []
  }
 ],
 "metadata": {
  "kernelspec": {
   "display_name": "ml",
   "language": "python",
   "name": "ml"
  },
  "language_info": {
   "codemirror_mode": {
    "name": "ipython",
    "version": 3
   },
   "file_extension": ".py",
   "mimetype": "text/x-python",
   "name": "python",
   "nbconvert_exporter": "python",
   "pygments_lexer": "ipython3",
   "version": "3.5.3"
  }
 },
 "nbformat": 4,
 "nbformat_minor": 2
}
